{
 "cells": [
  {
   "cell_type": "markdown",
   "metadata": {},
   "source": [
    "# Deep Learning in Medicine\n",
    "## BMSC-GA 4493, BMIN-GA 3007 \n",
    "## Lab 1: PyTorch Tutorial\n"
   ]
  },
  {
   "cell_type": "markdown",
   "metadata": {},
   "source": [
    "## Goal of this lab: \n",
    "   - Understand Pytorch Tensor and its operation\n",
    "   - Understand AutoGrad"
   ]
  },
  {
   "cell_type": "markdown",
   "metadata": {},
   "source": [
    "## Install PyTorch"
   ]
  },
  {
   "cell_type": "code",
   "execution_count": 1,
   "metadata": {},
   "outputs": [
    {
     "name": "stdout",
     "output_type": "stream",
     "text": [
      "Requirement already satisfied: torch in /Users/yuxuan/anaconda3/lib/python3.11/site-packages (2.1.2)\n",
      "Requirement already satisfied: filelock in /Users/yuxuan/anaconda3/lib/python3.11/site-packages (from torch) (3.9.0)\n",
      "Requirement already satisfied: typing-extensions in /Users/yuxuan/anaconda3/lib/python3.11/site-packages (from torch) (4.7.1)\n",
      "Requirement already satisfied: sympy in /Users/yuxuan/anaconda3/lib/python3.11/site-packages (from torch) (1.11.1)\n",
      "Requirement already satisfied: networkx in /Users/yuxuan/anaconda3/lib/python3.11/site-packages (from torch) (3.1)\n",
      "Requirement already satisfied: jinja2 in /Users/yuxuan/anaconda3/lib/python3.11/site-packages (from torch) (3.1.2)\n",
      "Requirement already satisfied: fsspec in /Users/yuxuan/anaconda3/lib/python3.11/site-packages (from torch) (2023.4.0)\n",
      "Requirement already satisfied: MarkupSafe>=2.0 in /Users/yuxuan/anaconda3/lib/python3.11/site-packages (from jinja2->torch) (2.1.1)\n",
      "Requirement already satisfied: mpmath>=0.19 in /Users/yuxuan/anaconda3/lib/python3.11/site-packages (from sympy->torch) (1.3.0)\n"
     ]
    }
   ],
   "source": [
    "!pip install torch"
   ]
  },
  {
   "cell_type": "markdown",
   "metadata": {},
   "source": [
    "## PyTorch Tensor\n",
    "   1. Multi-dimensional Arrays\n",
    "   2. Data Types\n",
    "        - torch.FloatTensor\n",
    "        - torch.IntTensor\n",
    "   3. Compatible with Numpy Array\n"
   ]
  },
  {
   "cell_type": "code",
   "execution_count": 2,
   "metadata": {},
   "outputs": [],
   "source": [
    "import torch\n",
    "import numpy as np\n",
    "import matplotlib.pyplot as plt"
   ]
  },
  {
   "cell_type": "markdown",
   "metadata": {},
   "source": [
    "### Check Pytorch Version"
   ]
  },
  {
   "cell_type": "code",
   "execution_count": 3,
   "metadata": {},
   "outputs": [
    {
     "data": {
      "text/plain": [
       "'2.1.2'"
      ]
     },
     "execution_count": 3,
     "metadata": {},
     "output_type": "execute_result"
    }
   ],
   "source": [
    "torch.__version__"
   ]
  },
  {
   "cell_type": "markdown",
   "metadata": {},
   "source": [
    "### Tensor Initialization"
   ]
  },
  {
   "cell_type": "code",
   "execution_count": 4,
   "metadata": {},
   "outputs": [],
   "source": [
    "x = torch.zeros(6, 2)  # construct a 6x2 matrix"
   ]
  },
  {
   "cell_type": "code",
   "execution_count": 5,
   "metadata": {},
   "outputs": [
    {
     "data": {
      "text/plain": [
       "(tensor([[0., 0.],\n",
       "         [0., 0.],\n",
       "         [0., 0.],\n",
       "         [0., 0.],\n",
       "         [0., 0.],\n",
       "         [0., 0.]]),\n",
       " torch.Size([6, 2]))"
      ]
     },
     "execution_count": 5,
     "metadata": {},
     "output_type": "execute_result"
    }
   ],
   "source": [
    "x, x.size()"
   ]
  },
  {
   "cell_type": "code",
   "execution_count": 6,
   "metadata": {},
   "outputs": [],
   "source": [
    "y = torch.rand(6, 2)  # construct a randomly initialized matrix"
   ]
  },
  {
   "cell_type": "code",
   "execution_count": 7,
   "metadata": {},
   "outputs": [
    {
     "data": {
      "text/plain": [
       "(tensor([[0.4079, 0.2142],\n",
       "         [0.1474, 0.0600],\n",
       "         [0.9549, 0.0047],\n",
       "         [0.2332, 0.8708],\n",
       "         [0.7980, 0.5520],\n",
       "         [0.6494, 0.2565]]),\n",
       " torch.Size([6, 2]))"
      ]
     },
     "execution_count": 7,
     "metadata": {},
     "output_type": "execute_result"
    }
   ],
   "source": [
    "y, y.size()"
   ]
  },
  {
   "cell_type": "code",
   "execution_count": 8,
   "metadata": {},
   "outputs": [],
   "source": [
    "z = torch.ones(7) # construct a matrix of ones"
   ]
  },
  {
   "cell_type": "code",
   "execution_count": 9,
   "metadata": {},
   "outputs": [
    {
     "data": {
      "text/plain": [
       "(tensor([1., 1., 1., 1., 1., 1., 1.]), torch.Size([7]))"
      ]
     },
     "execution_count": 9,
     "metadata": {},
     "output_type": "execute_result"
    }
   ],
   "source": [
    "z, z.size()"
   ]
  },
  {
   "cell_type": "markdown",
   "metadata": {},
   "source": [
    "### Create a 3D tensor"
   ]
  },
  {
   "cell_type": "code",
   "execution_count": 10,
   "metadata": {},
   "outputs": [],
   "source": [
    "ts = torch.rand(3, 4, 2)"
   ]
  },
  {
   "cell_type": "code",
   "execution_count": 11,
   "metadata": {},
   "outputs": [
    {
     "data": {
      "text/plain": [
       "tensor([[[0.4311, 0.9435],\n",
       "         [0.0336, 0.2276],\n",
       "         [0.7579, 0.0939],\n",
       "         [0.9765, 0.5672]],\n",
       "\n",
       "        [[0.8426, 0.6913],\n",
       "         [0.6775, 0.7176],\n",
       "         [0.0446, 0.4023],\n",
       "         [0.4303, 0.4518]],\n",
       "\n",
       "        [[0.8008, 0.0712],\n",
       "         [0.6443, 0.2217],\n",
       "         [0.9423, 0.5977],\n",
       "         [0.3025, 0.6888]]])"
      ]
     },
     "execution_count": 11,
     "metadata": {},
     "output_type": "execute_result"
    }
   ],
   "source": [
    "ts"
   ]
  },
  {
   "cell_type": "markdown",
   "metadata": {},
   "source": [
    "### Create a tensor of specific type"
   ]
  },
  {
   "cell_type": "code",
   "execution_count": 12,
   "metadata": {},
   "outputs": [],
   "source": [
    "float_tensor = torch.tensor([1.0, 2.0, 3.0], dtype=torch.float32)"
   ]
  },
  {
   "cell_type": "code",
   "execution_count": 13,
   "metadata": {},
   "outputs": [
    {
     "data": {
      "text/plain": [
       "(tensor([1., 2., 3.]), torch.float32)"
      ]
     },
     "execution_count": 13,
     "metadata": {},
     "output_type": "execute_result"
    }
   ],
   "source": [
    "float_tensor, float_tensor.dtype"
   ]
  },
  {
   "cell_type": "code",
   "execution_count": 14,
   "metadata": {},
   "outputs": [],
   "source": [
    "# Create an integer tensor\n",
    "int_tensor = torch.tensor([1, 2, 3], dtype=torch.int64)"
   ]
  },
  {
   "cell_type": "code",
   "execution_count": 15,
   "metadata": {},
   "outputs": [
    {
     "data": {
      "text/plain": [
       "(tensor([1, 2, 3]), torch.int64)"
      ]
     },
     "execution_count": 15,
     "metadata": {},
     "output_type": "execute_result"
    }
   ],
   "source": [
    "int_tensor, int_tensor.dtype"
   ]
  },
  {
   "cell_type": "code",
   "execution_count": 16,
   "metadata": {},
   "outputs": [],
   "source": [
    "# Create a boolean tensor\n",
    "bool_tensor = torch.tensor([True, False, True], dtype=torch.bool)"
   ]
  },
  {
   "cell_type": "code",
   "execution_count": 17,
   "metadata": {},
   "outputs": [
    {
     "data": {
      "text/plain": [
       "(tensor([ True, False,  True]), torch.bool)"
      ]
     },
     "execution_count": 17,
     "metadata": {},
     "output_type": "execute_result"
    }
   ],
   "source": [
    "bool_tensor, bool_tensor.dtype"
   ]
  },
  {
   "cell_type": "markdown",
   "metadata": {},
   "source": [
    "### Convert between types"
   ]
  },
  {
   "cell_type": "code",
   "execution_count": 18,
   "metadata": {},
   "outputs": [
    {
     "data": {
      "text/plain": [
       "tensor([1., 2., 3.])"
      ]
     },
     "execution_count": 18,
     "metadata": {},
     "output_type": "execute_result"
    }
   ],
   "source": [
    "# Convert to float32\n",
    "float_tensor = int_tensor.float()\n",
    "float_tensor"
   ]
  },
  {
   "cell_type": "code",
   "execution_count": 19,
   "metadata": {},
   "outputs": [
    {
     "data": {
      "text/plain": [
       "tensor([1, 2, 3])"
      ]
     },
     "execution_count": 19,
     "metadata": {},
     "output_type": "execute_result"
    }
   ],
   "source": [
    "# Convert to int64\n",
    "int_tensor = float_tensor.to(torch.int64)\n",
    "int_tensor"
   ]
  },
  {
   "cell_type": "code",
   "execution_count": 20,
   "metadata": {},
   "outputs": [
    {
     "data": {
      "text/plain": [
       "tensor([True, True, True])"
      ]
     },
     "execution_count": 20,
     "metadata": {},
     "output_type": "execute_result"
    }
   ],
   "source": [
    "# Convert to boolean\n",
    "bool_tensor = int_tensor.bool()\n",
    "bool_tensor"
   ]
  },
  {
   "cell_type": "markdown",
   "metadata": {},
   "source": [
    "### Conversion between Tensor array and Numpy array\n",
    "    - They share the same memory location! So one change will affect another"
   ]
  },
  {
   "cell_type": "code",
   "execution_count": 21,
   "metadata": {},
   "outputs": [
    {
     "name": "stdout",
     "output_type": "stream",
     "text": [
      "Original tensor: tensor([1, 2, 3, 4, 5])\n",
      "Original array: [1 2 3 4 5]\n",
      "\n",
      "Modified tensor: tensor([10,  2,  3,  4,  5])\n",
      "Modified array: [10  2  3  4  5]\n"
     ]
    }
   ],
   "source": [
    "# Create a PyTorch tensor\n",
    "tensor = torch.tensor([1, 2, 3, 4, 5])\n",
    "\n",
    "# Convert the tensor to a NumPy array\n",
    "array = tensor.numpy()\n",
    "\n",
    "# Show the initial values of the tensor and array\n",
    "print(\"Original tensor:\", tensor)\n",
    "print(\"Original array:\", array)\n",
    "print()\n",
    "# Modify the tensor\n",
    "tensor[0] = 10\n",
    "\n",
    "# Show the modified tensor and array\n",
    "print(\"Modified tensor:\", tensor)\n",
    "print(\"Modified array:\", array)"
   ]
  },
  {
   "cell_type": "code",
   "execution_count": 22,
   "metadata": {},
   "outputs": [
    {
     "name": "stdout",
     "output_type": "stream",
     "text": [
      "Original array: [1 2 3 4 5]\n",
      "Original tensor: tensor([1, 2, 3, 4, 5])\n",
      "Modified array: [10  2  3  4  5]\n",
      "Modified tensor: tensor([10,  2,  3,  4,  5])\n"
     ]
    }
   ],
   "source": [
    "# Create a NumPy array\n",
    "array = np.array([1, 2, 3, 4, 5])\n",
    "\n",
    "# Convert the NumPy array to a PyTorch tensor\n",
    "tensor = torch.from_numpy(array)\n",
    "\n",
    "# Show the initial values of the array and tensor\n",
    "print(\"Original array:\", array)\n",
    "print(\"Original tensor:\", tensor)\n",
    "\n",
    "# Modify the array\n",
    "array[0] = 10\n",
    "\n",
    "# Show the modified array and tensor\n",
    "print(\"Modified array:\", array)\n",
    "print(\"Modified tensor:\", tensor)"
   ]
  },
  {
   "cell_type": "markdown",
   "metadata": {},
   "source": [
    "## Operation Example: Addtion\n",
    "Related reading and reference:\n",
    "    \n",
    "* PyTorch documentation:\n",
    "<a href=\"https://pytorch.org/docs/stable/nn.html\"> https://pytorch.org/docs/stable/nn.html </a>"
   ]
  },
  {
   "cell_type": "code",
   "execution_count": 23,
   "metadata": {},
   "outputs": [
    {
     "name": "stdout",
     "output_type": "stream",
     "text": [
      "Matrix Addition:\n",
      " tensor([[ 6,  8],\n",
      "        [10, 12]])\n"
     ]
    }
   ],
   "source": [
    "# Create two 2D tensors (matrices)\n",
    "matrix1 = torch.tensor([[1, 2],\n",
    "                        [3, 4]])\n",
    "matrix2 = torch.tensor([[5, 6], \n",
    "                        [7, 8]])\n",
    "\n",
    "# Matrix Addition\n",
    "add_result = matrix1 + matrix2\n",
    "print(\"Matrix Addition:\\n\", add_result)"
   ]
  },
  {
   "cell_type": "code",
   "execution_count": 24,
   "metadata": {},
   "outputs": [
    {
     "name": "stdout",
     "output_type": "stream",
     "text": [
      "Matrix Subtraction:\n",
      " tensor([[-4, -4],\n",
      "        [-4, -4]])\n"
     ]
    }
   ],
   "source": [
    "# Matrix Subtraction\n",
    "subtract_result = matrix1 - matrix2\n",
    "print(\"Matrix Subtraction:\\n\", subtract_result)"
   ]
  },
  {
   "cell_type": "code",
   "execution_count": 25,
   "metadata": {},
   "outputs": [
    {
     "name": "stdout",
     "output_type": "stream",
     "text": [
      "Element-wise Multiplication:\n",
      " tensor([[ 5, 12],\n",
      "        [21, 32]])\n"
     ]
    }
   ],
   "source": [
    "# Element-wise Multiplication\n",
    "elementwise_multiply_result = matrix1 * matrix2\n",
    "print(\"Element-wise Multiplication:\\n\", elementwise_multiply_result)"
   ]
  },
  {
   "cell_type": "code",
   "execution_count": 26,
   "metadata": {},
   "outputs": [
    {
     "name": "stdout",
     "output_type": "stream",
     "text": [
      "Matrix Multiplication (Dot Product):\n",
      " tensor([[19, 22],\n",
      "        [43, 50]])\n"
     ]
    }
   ],
   "source": [
    "# Matrix Multiplication (Dot Product)\n",
    "# Using matmul for dot product of matrices\n",
    "dot_product_result = matrix1 @ matrix2\n",
    "print(\"Matrix Multiplication (Dot Product):\\n\", dot_product_result)\n"
   ]
  },
  {
   "cell_type": "markdown",
   "metadata": {},
   "source": [
    "## Autograd: automatic differentiation\n",
    "* Autograd is an automatic differentiation system in PyTorch. It's a key component for training neural networks. Autograd records operations on tensors as they are performed. When the computation is complete, you can call **.backward()** on the final output tensor to efficiently compute gradients (partial derivatives) of all involved tensors that have **requires_grad=True**."
   ]
  },
  {
   "cell_type": "markdown",
   "metadata": {},
   "source": [
    "## Example:"
   ]
  },
  {
   "cell_type": "markdown",
   "metadata": {},
   "source": [
    "#### Regarding the function $L$:\n",
    "$L = (y_{\\text{pred}} - y_{\\text{true}})^2 \\\\ \n",
    "y = Wx + b$"
   ]
  },
  {
   "cell_type": "markdown",
   "metadata": {},
   "source": [
    "#### The gradients for variables $W$ and $b$ are:\n",
    "$\\frac{\\partial L}{\\partial W} = 2x(y_{\\text{pred}} - y_{\\text{true}}) \\\\$\n",
    "$\\frac{\\partial L}{\\partial b} = 2(y_{\\text{pred}} - y_{\\text{true}})$"
   ]
  },
  {
   "cell_type": "code",
   "execution_count": 27,
   "metadata": {},
   "outputs": [],
   "source": [
    "# Input (x), Parameters (W, b), and Target (y_true)\n",
    "x = torch.tensor([1.0], requires_grad=False)  # Input\n",
    "W = torch.tensor([2.0], requires_grad=True)  # Weight\n",
    "b = torch.tensor([1.0], requires_grad=True)  # Bias\n",
    "y_true = torch.tensor([5.0])  # Target"
   ]
  },
  {
   "cell_type": "code",
   "execution_count": 28,
   "metadata": {},
   "outputs": [],
   "source": [
    "# Linear Model: y_pred = W*x + b\n",
    "y_pred = W * x + b\n",
    "\n",
    "# Loss Function: Mean Squared Error\n",
    "loss = (y_pred - y_true) ** 2"
   ]
  },
  {
   "cell_type": "code",
   "execution_count": 29,
   "metadata": {},
   "outputs": [],
   "source": [
    "# Compute Gradients\n",
    "loss.backward()"
   ]
  },
  {
   "cell_type": "code",
   "execution_count": 30,
   "metadata": {},
   "outputs": [
    {
     "name": "stdout",
     "output_type": "stream",
     "text": [
      "Gradient of W: -4.0\n",
      "Gradient of b: -4.0\n"
     ]
    }
   ],
   "source": [
    "# Gradients of W and b\n",
    "W_grad = W.grad\n",
    "b_grad = b.grad\n",
    "\n",
    "print(\"Gradient of W:\", W_grad.item())\n",
    "print(\"Gradient of b:\", b_grad.item())"
   ]
  },
  {
   "cell_type": "markdown",
   "metadata": {},
   "source": [
    "## Use the computed gradient to minimize the loss funciton"
   ]
  },
  {
   "cell_type": "code",
   "execution_count": 31,
   "metadata": {},
   "outputs": [],
   "source": [
    "# Define the loss function\n",
    "def mse_loss(y_pred, y_true):\n",
    "    return ((y_pred - y_true) ** 2).mean()"
   ]
  },
  {
   "cell_type": "code",
   "execution_count": 35,
   "metadata": {},
   "outputs": [],
   "source": [
    "# Define the input, target, and initial weight\n",
    "x = torch.tensor([1.0, 2.0, 3.0], requires_grad=False)\n",
    "y = torch.tensor([5.0, 4.0, 1.0], requires_grad=False)\n",
    "W = torch.rand((3,),requires_grad=True)\n",
    "\n",
    "# Initialization\n",
    "learning_rate = 0.01\n",
    "num_epochs = 100\n",
    "loss_values = []  # List to store loss values"
   ]
  },
  {
   "cell_type": "code",
   "execution_count": 36,
   "metadata": {},
   "outputs": [
    {
     "data": {
      "image/png": "[encoded data removed]",
      "text/plain": [
       "<Figure size 640x480 with 1 Axes>"
      ]
     },
     "metadata": {},
     "output_type": "display_data"
    },
    {
     "data": {
      "text/plain": [
       "tensor([2.4611, 1.8868, 0.3338], requires_grad=True)"
      ]
     },
     "execution_count": 36,
     "metadata": {},
     "output_type": "execute_result"
    }
   ],
   "source": [
    "# Optimization Loop\n",
    "for epoch in range(num_epochs):\n",
    "    # Forward pass: Compute predicted y\n",
    "    y_pred = W * x\n",
    "\n",
    "    # Compute loss\n",
    "    loss = mse_loss(y_pred, y)\n",
    "    loss_values.append(loss.item())\n",
    "\n",
    "    # Zero gradients before backward pass\n",
    "    W.grad = None\n",
    "\n",
    "    # Backward pass to compute gradient of loss with respect to W\n",
    "    loss.backward()\n",
    "\n",
    "    # Update weights\n",
    "    with torch.no_grad():\n",
    "        W -= learning_rate * W.grad\n",
    "\n",
    "# Plotting the loss over epochs\n",
    "plt.plot(loss_values, label='Loss over Epochs')\n",
    "plt.xlabel('Epoch')\n",
    "plt.ylabel('Loss')\n",
    "plt.title('Loss vs. Epochs')\n",
    "plt.legend()\n",
    "plt.show()\n",
    "W"
   ]
  },
  {
   "cell_type": "code",
   "execution_count": null,
   "metadata": {},
   "outputs": [],
   "source": []
  }
 ],
 "metadata": {
  "kernelspec": {
   "display_name": "Python 3 (ipykernel)",
   "language": "python",
   "name": "python3"
  },
  "language_info": {
   "codemirror_mode": {
    "name": "ipython",
    "version": 3
   },
   "file_extension": ".py",
   "mimetype": "text/x-python",
   "name": "python",
   "nbconvert_exporter": "python",
   "pygments_lexer": "ipython3",
   "version": "3.11.5"
  }
 },
 "nbformat": 4,
 "nbformat_minor": 4
}
